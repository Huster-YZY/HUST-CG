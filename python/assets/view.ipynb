{
 "cells": [
  {
   "cell_type": "code",
   "execution_count": 5,
   "metadata": {},
   "outputs": [
    {
     "data": {
      "text/plain": [
       "(45000, 3)"
      ]
     },
     "execution_count": 5,
     "metadata": {},
     "output_type": "execute_result"
    }
   ],
   "source": [
    "import trimesh\n",
    "mesh=trimesh.load('./sphere.obj',force='mesh')\n",
    "mesh.vertices.shape\n",
    "mesh.faces.shape"
   ]
  },
  {
   "cell_type": "code",
   "execution_count": 11,
   "metadata": {},
   "outputs": [],
   "source": [
    "import numpy as np\n",
    "import math\n",
    "uv=np.zeros((len(mesh.vertices),2))"
   ]
  },
  {
   "cell_type": "code",
   "execution_count": 12,
   "metadata": {},
   "outputs": [],
   "source": [
    "for i,v in enumerate(mesh.vertices):\n",
    "    x,y,z=v\n",
    "    l=math.sqrt(x**2+y**2+z**2)\n",
    "    x,y,z=v/l\n",
    "    azimuthal_angle=math.atan2(y,x)\n",
    "    if azimuthal_angle<0:\n",
    "        azimuthal_angle+=2*math.pi\n",
    "    polar_angle=math.acos(z)\n",
    "    u=azimuthal_angle/(2*math.pi)\n",
    "    v=polar_angle/math.pi\n",
    "    uv[i]=(u,v)"
   ]
  },
  {
   "cell_type": "code",
   "execution_count": 14,
   "metadata": {},
   "outputs": [
    {
     "name": "stdout",
     "output_type": "stream",
     "text": [
      "[0.02094242 0.         0.99978068]\n",
      "[0.         0.00666667]\n"
     ]
    }
   ],
   "source": [
    "i=1000\n",
    "print(mesh.vertices[i])\n",
    "print(uv[i])"
   ]
  },
  {
   "cell_type": "code",
   "execution_count": 22,
   "metadata": {},
   "outputs": [
    {
     "data": {
      "text/plain": [
       "(1024, 2048, 3)"
      ]
     },
     "execution_count": 22,
     "metadata": {},
     "output_type": "execute_result"
    }
   ],
   "source": [
    "import numpy as np\n",
    "from PIL import Image\n",
    "\n",
    "image=Image.open('./textures/earth.jpg').convert('RGB')\n",
    "np.array(image).shape"
   ]
  }
 ],
 "metadata": {
  "kernelspec": {
   "display_name": "surrol",
   "language": "python",
   "name": "python3"
  },
  "language_info": {
   "codemirror_mode": {
    "name": "ipython",
    "version": 3
   },
   "file_extension": ".py",
   "mimetype": "text/x-python",
   "name": "python",
   "nbconvert_exporter": "python",
   "pygments_lexer": "ipython3",
   "version": "3.10.4"
  }
 },
 "nbformat": 4,
 "nbformat_minor": 2
}
